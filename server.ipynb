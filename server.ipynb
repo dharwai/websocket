{
 "cells": [
  {
   "cell_type": "code",
   "execution_count": null,
   "id": "468fa2fb",
   "metadata": {},
   "outputs": [],
   "source": []
  },
  {
   "cell_type": "code",
   "execution_count": 1,
   "id": "4c93a5e9",
   "metadata": {},
   "outputs": [
    {
     "name": "stdout",
     "output_type": "stream",
     "text": [
      "hi\n"
     ]
    }
   ],
   "source": [
    "print(\"hi\")"
   ]
  },
  {
   "cell_type": "code",
   "execution_count": null,
   "id": "250c376b",
   "metadata": {},
   "outputs": [],
   "source": [
    "import asyncio \n",
    "import nest_asyncio\n",
    "import websockets\n",
    "\n",
    "async def handler(websocket, path):\n",
    "    data = await websocket.recv()\n",
    "    reply = f\"Data received as: {data}!\"\n",
    "    await websocket.send(reply)\n",
    "\n",
    "async def start_server():\n",
    "    server = await websockets.serve(handler, \"localhost\", 8000)\n",
    "    await server.wait_closed()\n",
    "\n",
    "nest_asyncio.apply()\n",
    "asyncio.get_event_loop().run_until_complete(start_server())\n"
   ]
  },
  {
   "cell_type": "code",
   "execution_count": null,
   "id": "3226464e",
   "metadata": {},
   "outputs": [],
   "source": []
  }
 ],
 "metadata": {
  "kernelspec": {
   "display_name": "Python 3 (ipykernel)",
   "language": "python",
   "name": "python3"
  },
  "language_info": {
   "codemirror_mode": {
    "name": "ipython",
    "version": 3
   },
   "file_extension": ".py",
   "mimetype": "text/x-python",
   "name": "python",
   "nbconvert_exporter": "python",
   "pygments_lexer": "ipython3",
   "version": "3.9.7"
  }
 },
 "nbformat": 4,
 "nbformat_minor": 5
}
